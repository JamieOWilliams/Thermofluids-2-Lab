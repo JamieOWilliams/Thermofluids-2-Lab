{
 "cells": [
  {
   "cell_type": "code",
   "execution_count": 1,
   "metadata": {
    "collapsed": true
   },
   "outputs": [],
   "source": [
    "import numpy as np\n",
    "import matplotlib.pyplot as plt\n",
    "import itertools as it"
   ]
  },
  {
   "cell_type": "code",
   "execution_count": 49,
   "metadata": {
    "collapsed": true
   },
   "outputs": [],
   "source": [
    "data = {\n",
    "    'outer_wall': {\n",
    "        'ref_tapping': 0.110,\n",
    "        'airbox_tapping': 0.196,\n",
    "        'atm': 0.102,\n",
    "        'values': [\n",
    "            0.110,\n",
    "            0.114,\n",
    "            0.124,\n",
    "            0.144,\n",
    "            0.142,\n",
    "            0.144,\n",
    "            0.130,\n",
    "            0.106,\n",
    "            0.102,\n",
    "            0.104,\n",
    "        ],\n",
    "    },\n",
    "    'inner_wall': {\n",
    "        'ref_tapping': 0.112,\n",
    "        'airbox_tapping': 0.198,\n",
    "        'atm': 0.104,\n",
    "        'values': [\n",
    "            0.112,\n",
    "            0.105,\n",
    "            0.072,\n",
    "            0.024,\n",
    "            0.010,\n",
    "            0.022,\n",
    "            0.068,\n",
    "            0.094,\n",
    "            0.102,\n",
    "            0.104,\n",
    "        ],\n",
    "    },\n",
    "    'radial_section': {\n",
    "        'ref_tapping': 0.110,\n",
    "        'airbox_tapping': 0.196,\n",
    "        'atm': 0.102,\n",
    "        'values': [\n",
    "            0.050,\n",
    "            0.075,\n",
    "            0.084,\n",
    "            0.104,\n",
    "            0.112,\n",
    "            0.122,\n",
    "            0.130,\n",
    "            0.138,\n",
    "            0.144,\n",
    "        ],\n",
    "    },\n",
    "}\n",
    "\n",
    "for section in data.keys():\n",
    "    num_vals = 10 if not section == 'radial_section' else 9\n",
    "    assert len(data[section]['values']) == num_vals, f'There are not {num_vals} values'\n",
    "\n",
    "constants = {\n",
    "    'rho_air': 1.2,\n",
    "}\n",
    "\n",
    "angles = [0, 0, 0, 22.5, 22.5, 22.5, 22.5, 0, 0, 0]\n",
    "bend_dims = {\n",
    "    'outer_wall': np.cumsum([angle * np.pi * 0.1 / 180 if angle else 0.025 for angle in angles]) - 0.025,\n",
    "    'inner_wall': np.cumsum([angle * np.pi * 0.05 / 180 if angle else 0.025 for angle in angles]) - 0.025\n",
    "}"
   ]
  },
  {
   "cell_type": "code",
   "execution_count": 50,
   "metadata": {
    "collapsed": true
   },
   "outputs": [],
   "source": [
    "def c_p_wall(l, section):\n",
    "    return (l - data[section]['ref_tapping']) / (data[section]['airbox_tapping'] - data[section]['ref_tapping'])\n",
    "\n",
    "def u_ratio(r, r_1=0.05, r_2=0.1):\n",
    "    return (r_2 - r_1) / (r * np.log(r_2/r_1))\n",
    "\n",
    "def c_p_free_vortex(r):\n",
    "    return 1 - u_ratio(r)**2"
   ]
  },
  {
   "cell_type": "code",
   "execution_count": 51,
   "metadata": {},
   "outputs": [
    {
     "data": {
      "image/png": "[encoded data removed]",
      "text/plain": [
       "<matplotlib.figure.Figure at 0x1255decfc88>"
      ]
     },
     "metadata": {},
     "output_type": "display_data"
    }
   ],
   "source": [
    "results = {\n",
    "    'c_p': {}\n",
    "}\n",
    "for key in data.keys():\n",
    "    results['c_p'][key] = [c_p_wall(l, section=key) for l in data[key]['values']]\n",
    "\n",
    "plt.plot(bend_dims['inner_wall'], results['c_p']['inner_wall'])\n",
    "plt.plot(bend_dims['outer_wall'], results['c_p']['outer_wall'])\n",
    "plt.show()"
   ]
  },
  {
   "cell_type": "code",
   "execution_count": 52,
   "metadata": {},
   "outputs": [
    {
     "data": {
      "image/png": "[encoded data removed]",
      "text/plain": [
       "<matplotlib.figure.Figure at 0x1255ddba5f8>"
      ]
     },
     "metadata": {},
     "output_type": "display_data"
    }
   ],
   "source": [
    "plt.plot(np.linspace(0.055, 0.095, len(results['c_p']['radial_section'])), results['c_p']['radial_section'])\n",
    "plt.show()"
   ]
  },
  {
   "cell_type": "code",
   "execution_count": 53,
   "metadata": {
    "collapsed": true
   },
   "outputs": [],
   "source": [
    "results['c_p']['free_vortex'] = [c_p_free_vortex(r) for r in np.linspace(0.055, 0.095, 9)]  "
   ]
  },
  {
   "cell_type": "code",
   "execution_count": 54,
   "metadata": {},
   "outputs": [
    {
     "data": {
      "image/png": "[encoded data removed]",
      "text/plain": [
       "<matplotlib.figure.Figure at 0x1255dee15f8>"
      ]
     },
     "metadata": {},
     "output_type": "display_data"
    }
   ],
   "source": [
    "num_data_points = 1000\n",
    "plt.plot(np.linspace(0.055, 0.095, num_data_points), [c_p_free_vortex(r) for r in np.linspace(0.055, 0.095, num_data_points)])\n",
    "plt.show()"
   ]
  },
  {
   "cell_type": "code",
   "execution_count": 117,
   "metadata": {
    "collapsed": true
   },
   "outputs": [],
   "source": [
    "bi_angles = np.array([0, 0, 11.25, 34.75, 57.25, 79.75, 90, 90, 90]) * np.pi / 180\n",
    "b = 0.1\n",
    "dynamic_pressure = {}\n",
    "dynamic_pressure['inner'] = 1/2 * 1000 * 9.81 * np.cos(30 * np.pi / 180) * (data['inner_wall']['airbox_tapping'] - data['inner_wall']['ref_tapping'])\n",
    "dynamic_pressure['outer'] = 1/2 * 1000 * 9.81 * np.cos(30 * np.pi / 180) * (data['outer_wall']['airbox_tapping'] - data['outer_wall']['ref_tapping'])\n",
    "c_p_outer_wall = results['c_p']['outer_wall']\n",
    "c_p_inner_wall = results['c_p']['inner_wall']"
   ]
  },
  {
   "cell_type": "code",
   "execution_count": 118,
   "metadata": {
    "collapsed": true
   },
   "outputs": [],
   "source": [
    "c_p_vect_outer = 1/2 * np.array([c_p_outer_wall[i+1] + c_p_outer_wall[i] for i in range(len(c_p_outer_wall)-1)])\n",
    "c_p_vect_inner = 1/2 * np.array([c_p_inner_wall[i+1] + c_p_inner_wall[i] for i in range(len(c_p_inner_wall)-1)])"
   ]
  },
  {
   "cell_type": "code",
   "execution_count": 119,
   "metadata": {
    "collapsed": true
   },
   "outputs": [],
   "source": [
    "x_dir_outer = np.cos(bi_angles) * b * np.array(bend_dims['outer_wall'][1:])\n",
    "x_dir_inner = np.cos(bi_angles) * b * np.array(bend_dims['inner_wall'][1:])"
   ]
  },
  {
   "cell_type": "code",
   "execution_count": 120,
   "metadata": {
    "collapsed": true
   },
   "outputs": [],
   "source": [
    "y_dir_outer = np.sin(bi_angles) * b * np.array(bend_dims['outer_wall'][1:])\n",
    "y_dir_inner = np.sin(bi_angles) * b * np.array(bend_dims['inner_wall'][1:])"
   ]
  },
  {
   "cell_type": "code",
   "execution_count": 121,
   "metadata": {
    "collapsed": true
   },
   "outputs": [],
   "source": [
    "F_x = (dynamic_pressure['outer'] * np.dot(c_p_vect_outer.T, x_dir_outer)) + (dynamic_pressure['inner'] * np.dot(c_p_vect_inner.T, x_dir_inner))\n",
    "F_y = (dynamic_pressure['outer'] * np.dot(c_p_vect_outer.T, y_dir_outer)) + (dynamic_pressure['inner'] * np.dot(c_p_vect_inner.T, y_dir_inner))"
   ]
  },
  {
   "cell_type": "code",
   "execution_count": 122,
   "metadata": {
    "collapsed": true
   },
   "outputs": [],
   "source": [
    "F = np.sqrt(F_x**2 + F_y**2)\n",
    "_dir = np.arctan(F_y/F_x) * 180 / np.pi"
   ]
  },
  {
   "cell_type": "code",
   "execution_count": 123,
   "metadata": {},
   "outputs": [
    {
     "name": "stdout",
     "output_type": "stream",
     "text": [
      "9.72343588391 64.8927786973\n"
     ]
    }
   ],
   "source": [
    "print(F, _dir)"
   ]
  },
  {
   "cell_type": "code",
   "execution_count": 137,
   "metadata": {
    "collapsed": true
   },
   "outputs": [],
   "source": [
    "outer_wall_vals = results['c_p']['outer_wall']\n",
    "inner_wall_vals = results['c_p']['inner_wall']\n",
    "\n",
    "average_c_p = {}\n",
    "average_c_p['in'] = 1/2 * (outer_wall_vals[0] + outer_wall_vals[0])\n",
    "average_c_p['out'] = 1/2 * (outer_wall_vals[len(outer_wall_vals)-1] + inner_wall_vals[len(inner_wall_vals)-1])\n",
    "\n",
    "bend_loss_coeff = average_c_p['out'] - average_c_p['in']"
   ]
  },
  {
   "cell_type": "code",
   "execution_count": 139,
   "metadata": {},
   "outputs": [
    {
     "name": "stdout",
     "output_type": "stream",
     "text": [
      "-0.08139534883720936\n"
     ]
    }
   ],
   "source": [
    "print(bend_loss_coeff)"
   ]
  }
 ],
 "metadata": {
  "kernelspec": {
   "display_name": "Python 3",
   "language": "python",
   "name": "python3"
  },
  "language_info": {
   "codemirror_mode": {
    "name": "ipython",
    "version": 3
   },
   "file_extension": ".py",
   "mimetype": "text/x-python",
   "name": "python",
   "nbconvert_exporter": "python",
   "pygments_lexer": "ipython3",
   "version": "3.6.3"
  }
 },
 "nbformat": 4,
 "nbformat_minor": 2
}
